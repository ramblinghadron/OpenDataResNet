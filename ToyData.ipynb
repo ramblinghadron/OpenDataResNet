{
 "cells": [
  {
   "cell_type": "code",
   "execution_count": 1,
   "id": "288a927a",
   "metadata": {},
   "outputs": [
    {
     "name": "stderr",
     "output_type": "stream",
     "text": [
      "/home/chep_workstation/.local/lib/python3.8/site-packages/tqdm/auto.py:22: TqdmWarning: IProgress not found. Please update jupyter and ipywidgets. See https://ipywidgets.readthedocs.io/en/stable/user_install.html\n",
      "  from .autonotebook import tqdm as notebook_tqdm\n",
      "/home/chep_workstation/.local/lib/python3.8/site-packages/torchvision/io/image.py:13: UserWarning: Failed to load image Python extension: '/home/chep_workstation/.local/lib/python3.8/site-packages/torchvision/image.so: undefined symbol: _ZN3c104cuda20CUDACachingAllocator9allocatorE'If you don't plan on using image functionality from `torchvision.io`, you can ignore this warning. Otherwise, there might be something wrong with your environment. Did you have `libjpeg` or `libpng` installed before building `torchvision` from source?\n",
      "  warn(\n"
     ]
    }
   ],
   "source": [
    "import numpy as np\n",
    "import torch\n",
    "from torch.utils.data import DataLoader, TensorDataset\n",
    "import torchvision.transforms as transforms\n",
    "import cv2\n",
    "import matplotlib.pyplot as plt\n",
    "import numpy as np\n",
    "import matplotlib.cm\n",
    "import os\n",
    "from PIL import Image\n",
    "from tqdm import tqdm\n",
    "import pandas as pd"
   ]
  },
  {
   "cell_type": "code",
   "execution_count": 2,
   "id": "47e35e2d",
   "metadata": {},
   "outputs": [],
   "source": [
    "img_size = 32\n",
    "num_images_per_class = 10000\n",
    "min_energy = 1\n",
    "max_energy = 100"
   ]
  },
  {
   "cell_type": "code",
   "execution_count": null,
   "id": "307d14ec",
   "metadata": {},
   "outputs": [],
   "source": [
    "def map_energy_to_color(energy_data, cmap=\"hot_r\"):\n",
    "    \"\"\"Maps energy values to colors using a colormap.\"\"\"\n",
    "    normed_data = (energy_data - energy_data.min()) / (energy_data.max() - energy_data.min())\n",
    "    cm = plt.get_cmap(cmap)\n",
    "    colored_data = (cm(normed_data) * 255).astype(np.uint8)\n",
    "    return colored_data\n",
    "\n",
    "def generate_jet(center=None, width=img_size // 12, sparsity=0.1):\n",
    "    x = np.linspace(-img_size//2, img_size//2, img_size)\n",
    "    y = np.linspace(-img_size//2, img_size//2, img_size)\n",
    "    x, y = np.meshgrid(x, y)\n",
    "\n",
    "    if center is None:\n",
    "        center = (np.random.randint(-img_size//4, img_size//4), np.random.randint(-img_size//4, img_size//4))\n",
    "\n",
    "    z = np.exp(-((x-center[0])**2 + (y-center[1])**2) / (2*width**2))\n",
    "    z = z * np.random.uniform(0.5, 5)  # Random strength\n",
    "\n",
    "    # Introduce sparsity\n",
    "    mask = np.random.rand(img_size, img_size) > sparsity\n",
    "    z[mask] = 0\n",
    "\n",
    "    return z\n",
    "\n",
    "def generate_image(label):\n",
    "    if label == \"signal\":\n",
    "        jet1 = generate_jet(center=(-img_size//20, 0))\n",
    "        jet2 = generate_jet(center=(img_size//20, 0))\n",
    "        img_data = jet1 + jet2\n",
    "    else:\n",
    "        img_data = generate_jet(center=(0, 0))\n",
    "\n",
    "    # Scale data to represent energy between min_energy and max_energy\n",
    "    img_data = img_data / img_data.max() * (max_energy - min_energy) + min_energy\n",
    "    img_data_colored = map_energy_to_color(img_data)\n",
    "    return Image.fromarray(img_data_colored)\n",
    "\n",
    "\n",
    "# Generate Images\n",
    "for label in [\"signal\", \"background\"]:\n",
    "    os.makedirs(f\"./data_resnet/{label}\", exist_ok=True)\n",
    "    for i in range(num_images_per_class):\n",
    "        if (i%100==0):\n",
    "            print(i)\n",
    "        img = generate_image(label)\n",
    "        img.save(f\"./data_resnet/{label}/{i}.png\")\n"
   ]
  },
  {
   "cell_type": "code",
   "execution_count": 3,
   "id": "c971d71b",
   "metadata": {},
   "outputs": [
    {
     "data": {
      "image/png": "[encoded data removed]",
      "text/plain": [
       "<Figure size 1200x600 with 2 Axes>"
      ]
     },
     "metadata": {},
     "output_type": "display_data"
    }
   ],
   "source": [
    "import matplotlib.pyplot as plt\n",
    "\n",
    "def compute_average_image(label, num_images=num_images_per_class):\n",
    "    total_image_data = np.zeros((img_size, img_size, 4), dtype=np.float32)\n",
    "    for i in range(num_images):\n",
    "        img_path = f\"./data_resnet/{label}/{i}.png\"\n",
    "        img_data = np.array(Image.open(img_path))\n",
    "        total_image_data += img_data\n",
    "    average_image_data = (total_image_data / num_images).astype(np.uint8)\n",
    "    avg_image = (average_image_data - average_image_data.min()) / (average_image_data.max() - average_image_data.min())\n",
    "    return avg_image\n",
    "\n",
    "\n",
    "\n",
    "# Compute average images for signal and background\n",
    "avg_signal_image = compute_average_image(\"signal\")\n",
    "avg_background_image = compute_average_image(\"background\")\n",
    "\n",
    "# Plot the averages\n",
    "fig, axes = plt.subplots(1, 2, figsize=(12, 6))\n",
    "\n",
    "axes[0].imshow(avg_signal_image)\n",
    "axes[0].set_title('Average Signal Image')\n",
    "axes[0].axis('off')\n",
    "\n",
    "axes[1].imshow(avg_background_image)\n",
    "axes[1].set_title('Average Background Image')\n",
    "axes[1].axis('off')\n",
    "\n",
    "plt.tight_layout()\n",
    "plt.show()\n"
   ]
  },
  {
   "cell_type": "code",
   "execution_count": null,
   "id": "87f2427c",
   "metadata": {},
   "outputs": [],
   "source": []
  }
 ],
 "metadata": {
  "kernelspec": {
   "display_name": "Python 3 (ipykernel)",
   "language": "python",
   "name": "python3"
  },
  "language_info": {
   "codemirror_mode": {
    "name": "ipython",
    "version": 3
   },
   "file_extension": ".py",
   "mimetype": "text/x-python",
   "name": "python",
   "nbconvert_exporter": "python",
   "pygments_lexer": "ipython3",
   "version": "3.10.11"
  }
 },
 "nbformat": 4,
 "nbformat_minor": 5
}
